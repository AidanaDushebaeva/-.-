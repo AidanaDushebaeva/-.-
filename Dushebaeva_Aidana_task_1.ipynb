{
 "cells": [
  {
   "cell_type": "markdown",
   "metadata": {},
   "source": [
    "## Подготовка данных для миграции в базу данных"
   ]
  },
  {
   "cell_type": "code",
   "execution_count": 151,
   "metadata": {},
   "outputs": [],
   "source": [
    "import pandas as pd\n",
    "import warnings\n",
    "\n",
    "warnings.filterwarnings('ignore')"
   ]
  },
  {
   "cell_type": "code",
   "execution_count": 152,
   "metadata": {},
   "outputs": [],
   "source": [
    "# Путь к файлу с данными\n",
    "file_path = \"retail_data.xlsx\""
   ]
  },
  {
   "cell_type": "code",
   "execution_count": 153,
   "metadata": {},
   "outputs": [],
   "source": [
    "# Загружаем таблицы\n",
    "df_transaction = pd.read_excel(file_path, sheet_name=\"transaction\")\n",
    "df_customer = pd.read_excel(file_path, sheet_name=\"customer\")"
   ]
  },
  {
   "cell_type": "code",
   "execution_count": 154,
   "metadata": {},
   "outputs": [
    {
     "data": {
      "text/html": [
       "<div>\n",
       "<style scoped>\n",
       "    .dataframe tbody tr th:only-of-type {\n",
       "        vertical-align: middle;\n",
       "    }\n",
       "\n",
       "    .dataframe tbody tr th {\n",
       "        vertical-align: top;\n",
       "    }\n",
       "\n",
       "    .dataframe thead th {\n",
       "        text-align: right;\n",
       "    }\n",
       "</style>\n",
       "<table border=\"1\" class=\"dataframe\">\n",
       "  <thead>\n",
       "    <tr style=\"text-align: right;\">\n",
       "      <th></th>\n",
       "      <th>product_id</th>\n",
       "      <th>brand</th>\n",
       "      <th>product_line</th>\n",
       "      <th>product_class</th>\n",
       "      <th>product_size</th>\n",
       "      <th>count</th>\n",
       "    </tr>\n",
       "  </thead>\n",
       "  <tbody>\n",
       "    <tr>\n",
       "      <th>0</th>\n",
       "      <td>0</td>\n",
       "      <td>Giant Bicycles</td>\n",
       "      <td>Standard</td>\n",
       "      <td>medium</td>\n",
       "      <td>large</td>\n",
       "      <td>47</td>\n",
       "    </tr>\n",
       "    <tr>\n",
       "      <th>1</th>\n",
       "      <td>0</td>\n",
       "      <td>Giant Bicycles</td>\n",
       "      <td>Standard</td>\n",
       "      <td>medium</td>\n",
       "      <td>medium</td>\n",
       "      <td>58</td>\n",
       "    </tr>\n",
       "    <tr>\n",
       "      <th>2</th>\n",
       "      <td>0</td>\n",
       "      <td>Norco Bicycles</td>\n",
       "      <td>Road</td>\n",
       "      <td>medium</td>\n",
       "      <td>medium</td>\n",
       "      <td>114</td>\n",
       "    </tr>\n",
       "    <tr>\n",
       "      <th>3</th>\n",
       "      <td>0</td>\n",
       "      <td>Norco Bicycles</td>\n",
       "      <td>Standard</td>\n",
       "      <td>low</td>\n",
       "      <td>medium</td>\n",
       "      <td>61</td>\n",
       "    </tr>\n",
       "    <tr>\n",
       "      <th>4</th>\n",
       "      <td>0</td>\n",
       "      <td>Norco Bicycles</td>\n",
       "      <td>Standard</td>\n",
       "      <td>medium</td>\n",
       "      <td>medium</td>\n",
       "      <td>66</td>\n",
       "    </tr>\n",
       "  </tbody>\n",
       "</table>\n",
       "</div>"
      ],
      "text/plain": [
       "   product_id           brand product_line product_class product_size  count\n",
       "0           0  Giant Bicycles     Standard        medium        large     47\n",
       "1           0  Giant Bicycles     Standard        medium       medium     58\n",
       "2           0  Norco Bicycles         Road        medium       medium    114\n",
       "3           0  Norco Bicycles     Standard           low       medium     61\n",
       "4           0  Norco Bicycles     Standard        medium       medium     66"
      ]
     },
     "execution_count": 154,
     "metadata": {},
     "output_type": "execute_result"
    }
   ],
   "source": [
    "# Группируем по product_id и характеристикам товара и считаем количество повторений каждой комбинации\n",
    "product_counts = df_transaction.groupby([\"product_id\", \n",
    "                                         \"brand\", \n",
    "                                         \"product_line\", \n",
    "                                         \"product_class\", \n",
    "                                         \"product_size\"]).size().reset_index(name=\"count\")\n",
    "\n",
    "product_counts.head()"
   ]
  },
  {
   "cell_type": "markdown",
   "metadata": {},
   "source": [
    "Из вывода видно, что у одного product_id могут быть разные характеристики товара. \n",
    "Необходимо определить правильные характеристики для каждого product_id."
   ]
  },
  {
   "cell_type": "code",
   "execution_count": 155,
   "metadata": {},
   "outputs": [
    {
     "data": {
      "text/html": [
       "<div>\n",
       "<style scoped>\n",
       "    .dataframe tbody tr th:only-of-type {\n",
       "        vertical-align: middle;\n",
       "    }\n",
       "\n",
       "    .dataframe tbody tr th {\n",
       "        vertical-align: top;\n",
       "    }\n",
       "\n",
       "    .dataframe thead th {\n",
       "        text-align: right;\n",
       "    }\n",
       "</style>\n",
       "<table border=\"1\" class=\"dataframe\">\n",
       "  <thead>\n",
       "    <tr style=\"text-align: right;\">\n",
       "      <th></th>\n",
       "      <th>product_id</th>\n",
       "      <th>brand</th>\n",
       "      <th>product_line</th>\n",
       "      <th>product_class</th>\n",
       "      <th>product_size</th>\n",
       "      <th>count</th>\n",
       "    </tr>\n",
       "  </thead>\n",
       "  <tbody>\n",
       "    <tr>\n",
       "      <th>12</th>\n",
       "      <td>0</td>\n",
       "      <td>Solex</td>\n",
       "      <td>Standard</td>\n",
       "      <td>medium</td>\n",
       "      <td>medium</td>\n",
       "      <td>206</td>\n",
       "    </tr>\n",
       "    <tr>\n",
       "      <th>18</th>\n",
       "      <td>1</td>\n",
       "      <td>Giant Bicycles</td>\n",
       "      <td>Standard</td>\n",
       "      <td>medium</td>\n",
       "      <td>medium</td>\n",
       "      <td>270</td>\n",
       "    </tr>\n",
       "    <tr>\n",
       "      <th>21</th>\n",
       "      <td>2</td>\n",
       "      <td>Solex</td>\n",
       "      <td>Standard</td>\n",
       "      <td>medium</td>\n",
       "      <td>medium</td>\n",
       "      <td>194</td>\n",
       "    </tr>\n",
       "    <tr>\n",
       "      <th>22</th>\n",
       "      <td>3</td>\n",
       "      <td>Trek Bicycles</td>\n",
       "      <td>Standard</td>\n",
       "      <td>medium</td>\n",
       "      <td>large</td>\n",
       "      <td>354</td>\n",
       "    </tr>\n",
       "    <tr>\n",
       "      <th>23</th>\n",
       "      <td>4</td>\n",
       "      <td>Giant Bicycles</td>\n",
       "      <td>Standard</td>\n",
       "      <td>high</td>\n",
       "      <td>medium</td>\n",
       "      <td>180</td>\n",
       "    </tr>\n",
       "  </tbody>\n",
       "</table>\n",
       "</div>"
      ],
      "text/plain": [
       "    product_id           brand product_line product_class product_size  count\n",
       "12           0           Solex     Standard        medium       medium    206\n",
       "18           1  Giant Bicycles     Standard        medium       medium    270\n",
       "21           2           Solex     Standard        medium       medium    194\n",
       "22           3   Trek Bicycles     Standard        medium        large    354\n",
       "23           4  Giant Bicycles     Standard          high       medium    180"
      ]
     },
     "execution_count": 155,
     "metadata": {},
     "output_type": "execute_result"
    }
   ],
   "source": [
    "# Определяем самую часто встречающуюся комбинацию для каждого product_id\n",
    "correct_products = product_counts.loc[product_counts.groupby(\"product_id\")[\"count\"].idxmax()]\n",
    "correct_products.head()"
   ]
  },
  {
   "cell_type": "code",
   "execution_count": 156,
   "metadata": {},
   "outputs": [],
   "source": [
    "# Создадим словарь соответствий product_id -> наиболее частая комбинация характеристик\n",
    "product_replacements = correct_products.set_index(\"product_id\")[[\"brand\", \n",
    "                                                                 \"product_line\", \n",
    "                                                                 \"product_class\", \n",
    "                                                                 \"product_size\"]].to_dict(orient=\"index\")"
   ]
  },
  {
   "cell_type": "code",
   "execution_count": 157,
   "metadata": {},
   "outputs": [],
   "source": [
    "# Функция для замены неправильных значений на правильные\n",
    "def replace_product_info(row):\n",
    "    if row[\"product_id\"] in product_replacements:\n",
    "        correct_info = product_replacements[row[\"product_id\"]]\n",
    "        row[\"brand\"] = correct_info[\"brand\"]\n",
    "        row[\"product_line\"] = correct_info[\"product_line\"]\n",
    "        row[\"product_class\"] = correct_info[\"product_class\"]\n",
    "        row[\"product_size\"] = correct_info[\"product_size\"]\n",
    "    return row"
   ]
  },
  {
   "cell_type": "code",
   "execution_count": 158,
   "metadata": {},
   "outputs": [],
   "source": [
    "# Применяем замену к каждому ряду в df_transaction\n",
    "df_transaction = df_transaction.apply(replace_product_info, axis=1)"
   ]
  },
  {
   "cell_type": "code",
   "execution_count": 159,
   "metadata": {},
   "outputs": [],
   "source": [
    "# Преобразуем тип данных online_order в булевый, а дату рождения в datetime\n",
    "df_transaction[\"online_order\"] = df_transaction[\"online_order\"].astype(bool)\n",
    "df_customer[\"DOB\"] = pd.to_datetime(df_customer[\"DOB\"], errors='coerce')"
   ]
  },
  {
   "cell_type": "code",
   "execution_count": 160,
   "metadata": {},
   "outputs": [],
   "source": [
    "# Удаляем строки с пропущенными значениями из df_transaction и df_customer\n",
    "df_transaction = df_transaction.dropna()\n",
    "df_customer = df_customer.dropna()"
   ]
  },
  {
   "cell_type": "code",
   "execution_count": 161,
   "metadata": {},
   "outputs": [],
   "source": [
    "# Оставляем только те транзакции, которые соответствуют существующим клиентам\n",
    "valid_customers = set(df_customer['customer_id'])\n",
    "df_transaction = df_transaction[df_transaction['customer_id'].isin(valid_customers)]"
   ]
  },
  {
   "cell_type": "code",
   "execution_count": 162,
   "metadata": {},
   "outputs": [
    {
     "data": {
      "text/plain": [
       "Index(['customer_id', 'first_name', 'last_name', 'gender', 'DOB', 'job_title',\n",
       "       'job_industry_category', 'wealth_segment', 'deceased_indicator',\n",
       "       'owns_car', 'address', 'postcode', 'state', 'country',\n",
       "       'property_valuation'],\n",
       "      dtype='object')"
      ]
     },
     "execution_count": 162,
     "metadata": {},
     "output_type": "execute_result"
    }
   ],
   "source": [
    "df_customer.columns"
   ]
  },
  {
   "cell_type": "code",
   "execution_count": 163,
   "metadata": {},
   "outputs": [
    {
     "data": {
      "text/plain": [
       "array(['F', 'Male', 'Female', 'U', 'Femal'], dtype=object)"
      ]
     },
     "execution_count": 163,
     "metadata": {},
     "output_type": "execute_result"
    }
   ],
   "source": [
    "# Получаем уникальные значения пола\n",
    "df_customer['gender'].unique()"
   ]
  },
  {
   "cell_type": "code",
   "execution_count": 164,
   "metadata": {},
   "outputs": [
    {
     "data": {
      "text/plain": [
       "array(['New South Wales', 'QLD', 'VIC', 'NSW', 'Victoria'], dtype=object)"
      ]
     },
     "execution_count": 164,
     "metadata": {},
     "output_type": "execute_result"
    }
   ],
   "source": [
    "# Получаем уникальные значения штатов\n",
    "df_customer['state'].unique()"
   ]
  },
  {
   "cell_type": "markdown",
   "metadata": {},
   "source": [
    "Анализ данных показывает необходимость стандартизации:\n",
    "\n",
    "- Пол: 5 вариантов записи ('F', 'Male', 'Female', 'U', 'Femal')\n",
    "- Штаты: 5 вариантов записи ('New South Wales', 'QLD', 'VIC', 'NSW', 'Victoria')\n"
   ]
  },
  {
   "cell_type": "code",
   "execution_count": 165,
   "metadata": {},
   "outputs": [],
   "source": [
    "# Создаем словарь для стандартизации значений пола:\n",
    "# F, Femal -> Female\n",
    "# Male -> Male  \n",
    "# U -> Unknown\n",
    "gender_mapping = {\n",
    "    'F': 'Female',\n",
    "    'Female': 'Female', \n",
    "    'Femal': 'Female',\n",
    "    'Male': 'Male',\n",
    "    'U': 'Unknown'\n",
    "}\n",
    "\n",
    "# Создаем словарь для стандартизации названий штатов:\n",
    "# NSW -> New South Wales\n",
    "# QLD -> Queensland \n",
    "# VIC, Victoria -> Victoria\n",
    "state_mapping = {\n",
    "    'NSW': 'New South Wales',\n",
    "    'New South Wales': 'New South Wales',\n",
    "    'QLD': 'Queensland',\n",
    "    'VIC': 'Victoria',\n",
    "    'Victoria': 'Victoria'\n",
    "}\n",
    "\n",
    "# Применяем маппинги для стандартизации значений в колонках gender и state\n",
    "df_customer['gender'] = df_customer['gender'].map(gender_mapping)\n",
    "df_customer['state'] = df_customer['state'].map(state_mapping)"
   ]
  },
  {
   "cell_type": "code",
   "execution_count": 116,
   "metadata": {},
   "outputs": [
    {
     "name": "stdout",
     "output_type": "stream",
     "text": [
      "['Female' 'Male' 'Unknown']\n"
     ]
    }
   ],
   "source": [
    "# Проверка результата\n",
    "print(df_customer['gender'].unique())"
   ]
  },
  {
   "cell_type": "code",
   "execution_count": 117,
   "metadata": {},
   "outputs": [
    {
     "name": "stdout",
     "output_type": "stream",
     "text": [
      "['New South Wales' 'Queensland' 'Victoria']\n"
     ]
    }
   ],
   "source": [
    "# Проверка результата\n",
    "print(df_customer['state'].unique())"
   ]
  },
  {
   "cell_type": "code",
   "execution_count": 118,
   "metadata": {},
   "outputs": [
    {
     "name": "stdout",
     "output_type": "stream",
     "text": [
      "<class 'pandas.core.frame.DataFrame'>\n",
      "Index: 19803 entries, 0 to 19999\n",
      "Data columns (total 12 columns):\n",
      " #   Column            Non-Null Count  Dtype         \n",
      "---  ------            --------------  -----         \n",
      " 0   transaction_id    19803 non-null  int64         \n",
      " 1   product_id        19803 non-null  int64         \n",
      " 2   customer_id       19803 non-null  int64         \n",
      " 3   transaction_date  19803 non-null  datetime64[ns]\n",
      " 4   online_order      19803 non-null  bool          \n",
      " 5   order_status      19803 non-null  object        \n",
      " 6   brand             19803 non-null  object        \n",
      " 7   product_line      19803 non-null  object        \n",
      " 8   product_class     19803 non-null  object        \n",
      " 9   product_size      19803 non-null  object        \n",
      " 10  list_price        19803 non-null  float64       \n",
      " 11  standard_cost     19803 non-null  float64       \n",
      "dtypes: bool(1), datetime64[ns](1), float64(2), int64(3), object(5)\n",
      "memory usage: 1.8+ MB\n"
     ]
    }
   ],
   "source": [
    "df_transaction.info()"
   ]
  },
  {
   "cell_type": "code",
   "execution_count": 119,
   "metadata": {},
   "outputs": [
    {
     "name": "stdout",
     "output_type": "stream",
     "text": [
      "<class 'pandas.core.frame.DataFrame'>\n",
      "Index: 2780 entries, 0 to 3996\n",
      "Data columns (total 15 columns):\n",
      " #   Column                 Non-Null Count  Dtype         \n",
      "---  ------                 --------------  -----         \n",
      " 0   customer_id            2780 non-null   int64         \n",
      " 1   first_name             2780 non-null   object        \n",
      " 2   last_name              2780 non-null   object        \n",
      " 3   gender                 2780 non-null   object        \n",
      " 4   DOB                    2780 non-null   datetime64[ns]\n",
      " 5   job_title              2780 non-null   object        \n",
      " 6   job_industry_category  2780 non-null   object        \n",
      " 7   wealth_segment         2780 non-null   object        \n",
      " 8   deceased_indicator     2780 non-null   object        \n",
      " 9   owns_car               2780 non-null   object        \n",
      " 10  address                2780 non-null   object        \n",
      " 11  postcode               2780 non-null   int64         \n",
      " 12  state                  2780 non-null   object        \n",
      " 13  country                2780 non-null   object        \n",
      " 14  property_valuation     2780 non-null   int64         \n",
      "dtypes: datetime64[ns](1), int64(3), object(11)\n",
      "memory usage: 347.5+ KB\n"
     ]
    }
   ],
   "source": [
    "df_customer.info()"
   ]
  },
  {
   "cell_type": "code",
   "execution_count": 120,
   "metadata": {},
   "outputs": [],
   "source": [
    "# Загружаем уникальные локации из таблицы клиентов (почтовый индекс, штат, страна)\n",
    "df_locations = df_customer[['postcode', 'state', 'country']].drop_duplicates()"
   ]
  },
  {
   "cell_type": "code",
   "execution_count": 122,
   "metadata": {},
   "outputs": [],
   "source": [
    "# Загружаем уникальные должности\n",
    "df_jobs = df_customer[['job_title', \n",
    "                       'job_industry_category']].drop_duplicates().reset_index(drop=True)\n",
    "\n",
    "df_jobs['job_title_id'] = df_jobs.index + 1  # Создаем ID для должностей"
   ]
  },
  {
   "cell_type": "code",
   "execution_count": 123,
   "metadata": {},
   "outputs": [],
   "source": [
    "# Загружаем уникальные продукты\n",
    "df_products = df_transaction[['product_id', \n",
    "                              'brand', \n",
    "                              'product_line', \n",
    "                              'product_class', \n",
    "                              'product_size']].drop_duplicates()"
   ]
  },
  {
   "cell_type": "code",
   "execution_count": 124,
   "metadata": {},
   "outputs": [],
   "source": [
    "# Объединяем таблицу клиентов с таблицей должностей для получения job_title_id\n",
    "df_customer = df_customer.merge(df_jobs, on=[\"job_title\", \n",
    "                                             \"job_industry_category\"], how=\"left\")"
   ]
  },
  {
   "cell_type": "code",
   "execution_count": 126,
   "metadata": {},
   "outputs": [],
   "source": [
    "# Удаляем столбцы, которые теперь хранятся в отдельных таблицах:\n",
    "# job_title и job_industry_category перенесены в таблицу jobs\n",
    "# state и country перенесены в таблицу locations\n",
    "df_customer = df_customer.drop(columns=['job_title', \n",
    "                                        'job_industry_category', \n",
    "                                        'state', \n",
    "                                        'country'])"
   ]
  },
  {
   "cell_type": "code",
   "execution_count": 128,
   "metadata": {},
   "outputs": [],
   "source": [
    "# Удаляем столбцы, которые теперь хранятся в таблице products\n",
    "df_transaction = df_transaction.drop(columns=['brand', \n",
    "                                              'product_line', \n",
    "                                              'product_class', \n",
    "                                              'product_size'])"
   ]
  },
  {
   "cell_type": "markdown",
   "metadata": {},
   "source": [
    "## Загрузка данных в PostgreSQL"
   ]
  },
  {
   "cell_type": "code",
   "execution_count": 129,
   "metadata": {},
   "outputs": [],
   "source": [
    "import psycopg2"
   ]
  },
  {
   "cell_type": "code",
   "execution_count": 130,
   "metadata": {},
   "outputs": [],
   "source": [
    "# Создаем подключение к базе данных PostgreSQL\n",
    "# Параметры подключения\n",
    "DB_HOST = \"localhost\"  # Хост базы данных\n",
    "DB_PORT = \"5432\"      # Порт PostgreSQL по умолчанию\n",
    "DB_NAME = \"retail_db\" # Название базы данных\n",
    "DB_USER = \"postgres\"  # Имя пользователя\n",
    "DB_PASS = \"SUPER_PASS\"    # Пароль пользователя\n",
    "\n",
    "# Устанавливаем соединение с базой данных\n",
    "conn = psycopg2.connect(\n",
    "    host=DB_HOST,\n",
    "    port=DB_PORT,\n",
    "    database=DB_NAME,\n",
    "    user=DB_USER,\n",
    "    password=DB_PASS\n",
    ")"
   ]
  },
  {
   "cell_type": "code",
   "execution_count": 131,
   "metadata": {},
   "outputs": [
    {
     "data": {
      "text/html": [
       "<div>\n",
       "<style scoped>\n",
       "    .dataframe tbody tr th:only-of-type {\n",
       "        vertical-align: middle;\n",
       "    }\n",
       "\n",
       "    .dataframe tbody tr th {\n",
       "        vertical-align: top;\n",
       "    }\n",
       "\n",
       "    .dataframe thead th {\n",
       "        text-align: right;\n",
       "    }\n",
       "</style>\n",
       "<table border=\"1\" class=\"dataframe\">\n",
       "  <thead>\n",
       "    <tr style=\"text-align: right;\">\n",
       "      <th></th>\n",
       "      <th>table_name</th>\n",
       "    </tr>\n",
       "  </thead>\n",
       "  <tbody>\n",
       "    <tr>\n",
       "      <th>0</th>\n",
       "      <td>customers</td>\n",
       "    </tr>\n",
       "    <tr>\n",
       "      <th>1</th>\n",
       "      <td>job_titles</td>\n",
       "    </tr>\n",
       "    <tr>\n",
       "      <th>2</th>\n",
       "      <td>locations</td>\n",
       "    </tr>\n",
       "    <tr>\n",
       "      <th>3</th>\n",
       "      <td>products</td>\n",
       "    </tr>\n",
       "    <tr>\n",
       "      <th>4</th>\n",
       "      <td>transactions</td>\n",
       "    </tr>\n",
       "  </tbody>\n",
       "</table>\n",
       "</div>"
      ],
      "text/plain": [
       "     table_name\n",
       "0     customers\n",
       "1    job_titles\n",
       "2     locations\n",
       "3      products\n",
       "4  transactions"
      ]
     },
     "execution_count": 131,
     "metadata": {},
     "output_type": "execute_result"
    }
   ],
   "source": [
    "# Получаем список всех таблиц в схеме public\n",
    "\n",
    "query = \"\"\"\n",
    "SELECT table_name \n",
    "FROM information_schema.tables\n",
    "WHERE table_schema = 'public'\n",
    "ORDER BY table_name;\n",
    "\"\"\"\n",
    "\n",
    "pd.read_sql_query(query, conn)"
   ]
  },
  {
   "cell_type": "code",
   "execution_count": 132,
   "metadata": {},
   "outputs": [],
   "source": [
    "# Создаем курсор для выполнения SQL-запросов к базе данных\n",
    "cursor = conn.cursor()\n",
    "\n",
    "# Очищаем таблицу locations (включая связанные данные через CASCADE)\n",
    "cursor.execute(\"TRUNCATE TABLE locations CASCADE;\")\n",
    "conn.commit()\n",
    "\n",
    "# Построчно загружаем данные о локациях из DataFrame в базу данных\n",
    "for _, row in df_locations.iterrows():\n",
    "    try:\n",
    "        cursor.execute(\n",
    "            \"INSERT INTO locations (postcode, state, country) VALUES (%s, %s, %s)\",\n",
    "            (row['postcode'], row['state'], row['country'])\n",
    "        )\n",
    "        conn.commit()  # Сохраняем изменения в базе данных\n",
    "    except Exception as e:\n",
    "        conn.rollback()  # Откатываем изменения при ошибке\n",
    "        print(f\"Ошибка при вставке строки {row}: {e}\")"
   ]
  },
  {
   "cell_type": "code",
   "execution_count": 133,
   "metadata": {},
   "outputs": [
    {
     "name": "stdout",
     "output_type": "stream",
     "text": [
      "Загружено записей: 869\n"
     ]
    }
   ],
   "source": [
    "# Очищаем таблицу должностей\n",
    "cursor.execute(\"TRUNCATE TABLE job_titles CASCADE;\")\n",
    "conn.commit()\n",
    "\n",
    "# Загружаем данные о должностях из DataFrame в таблицу job_titles\n",
    "try:\n",
    "    for _, row in df_jobs.iterrows():\n",
    "        cursor.execute(\n",
    "            \"\"\"\n",
    "            INSERT INTO job_titles (job_title_id, job_title, job_industry_category) \n",
    "            VALUES (%s, %s, %s)\"\"\", \n",
    "            (\n",
    "            row['job_title_id'],\n",
    "            row['job_title'] if not pd.isna(row['job_title']) else None,\n",
    "            row['job_industry_category'] if not pd.isna(row['job_industry_category']) else None\n",
    "        ))\n",
    "    conn.commit()\n",
    "    \n",
    "    # Выводим количество загруженных записей для проверки\n",
    "    cursor.execute(\"SELECT COUNT(*) FROM job_titles\")\n",
    "    print(f\"Загружено записей: {cursor.fetchone()[0]}\")\n",
    "except Exception as e:\n",
    "    conn.rollback()\n",
    "    print(f\"Ошибка: {e}\")"
   ]
  },
  {
   "cell_type": "code",
   "execution_count": 142,
   "metadata": {},
   "outputs": [
    {
     "name": "stdout",
     "output_type": "stream",
     "text": [
      "Загружено записей: 2780\n"
     ]
    }
   ],
   "source": [
    "# Очищаем таблицу customers и связанные данные через CASCADE\n",
    "cursor.execute(\"TRUNCATE TABLE customers CASCADE;\")\n",
    "conn.commit()\n",
    "\n",
    "# Загружаем данные клиентов из DataFrame в таблицу customers\n",
    "try:\n",
    "    for _, row in df_customer.iterrows():\n",
    "        # Обработка пустого значения даты рождения\n",
    "        dob = None if pd.isna(row['DOB']) else row['DOB']\n",
    "        \n",
    "        # Вставка записи о клиенте со всеми атрибутами\n",
    "        cursor.execute(\n",
    "            \"\"\"INSERT INTO customers \n",
    "               (customer_id, first_name, last_name, gender, DOB, \n",
    "                job_title_id, wealth_segment, deceased_indicator, \n",
    "                owns_car, address, postcode, property_valuation) \n",
    "               VALUES (%s, %s, %s, %s, %s, %s, %s, %s, %s, %s, %s, %s)\"\"\",\n",
    "            (row['customer_id'], row['first_name'], row['last_name'], \n",
    "             row['gender'], dob, row['job_title_id'], \n",
    "             row['wealth_segment'], row['deceased_indicator'], \n",
    "             row['owns_car'], row['address'], row['postcode'], \n",
    "             row['property_valuation'])\n",
    "        )\n",
    "    conn.commit()\n",
    "    \n",
    "    # Проверяем успешность загрузки по количеству записей\n",
    "    cursor.execute(\"SELECT COUNT(*) FROM customers\")\n",
    "    print(f\"Загружено записей: {cursor.fetchone()[0]}\")\n",
    "    \n",
    "except Exception as e:\n",
    "    # Откат транзакции при возникновении ошибки\n",
    "    conn.rollback()\n",
    "    print(f\"Ошибка: {e}\")"
   ]
  },
  {
   "cell_type": "code",
   "execution_count": 144,
   "metadata": {},
   "outputs": [
    {
     "name": "stdout",
     "output_type": "stream",
     "text": [
      "Загружено записей: 101\n"
     ]
    }
   ],
   "source": [
    "# Очищаем таблицу products и связанные данные через CASCADE\n",
    "cursor.execute(\"TRUNCATE TABLE products CASCADE;\")\n",
    "conn.commit()\n",
    "\n",
    "# Загружаем данные о продуктах из DataFrame в таблицу products\n",
    "try:\n",
    "    for _, row in df_products.iterrows():\n",
    "        # Вставка записи о продукте со всеми атрибутами\n",
    "        cursor.execute(\n",
    "        \"\"\"INSERT INTO products \n",
    "        (product_id, brand, product_line, \n",
    "        product_class, product_size) VALUES (%s, %s, %s, %s, %s)\"\"\",\n",
    "        (row['product_id'], row['brand'], row['product_line'], \n",
    "         row['product_class'],row['product_size'])\n",
    "    )\n",
    "    conn.commit()\n",
    "    \n",
    "    # Проверяем успешность загрузки по количеству записей\n",
    "    cursor.execute(\"SELECT COUNT(*) FROM products\")\n",
    "    print(f\"Загружено записей: {cursor.fetchone()[0]}\")\n",
    "    \n",
    "except Exception as e:\n",
    "    # Откат транзакции при возникновении ошибки\n",
    "    conn.rollback()\n",
    "    print(f\"Ошибка: {e}\")"
   ]
  },
  {
   "cell_type": "code",
   "execution_count": 148,
   "metadata": {},
   "outputs": [
    {
     "name": "stdout",
     "output_type": "stream",
     "text": [
      "Загружено записей: 13890\n"
     ]
    }
   ],
   "source": [
    "# Очищаем таблицу транзакций и связанные данные через CASCADE\n",
    "cursor.execute(\"TRUNCATE TABLE transactions CASCADE;\")\n",
    "conn.commit()\n",
    "\n",
    "# Загружаем данные о транзакциях из DataFrame в таблицу transactions\n",
    "try:\n",
    "    for _, row in df_transaction.iterrows():\n",
    "        # Вставка записи о транзакции со всеми атрибутами\n",
    "        cursor.execute(\n",
    "        \"\"\"INSERT INTO transactions \n",
    "        (transaction_id, product_id, customer_id, \n",
    "        transaction_date, online_order, order_status, \n",
    "        list_price, standard_cost) VALUES (%s, %s, %s, %s, %s, %s, %s, %s)\"\"\",\n",
    "        (row['transaction_id'], row['product_id'], \n",
    "         row['customer_id'], row['transaction_date'], \n",
    "         row['online_order'], row['order_status'], row['list_price'], \n",
    "         row['standard_cost'])\n",
    "    )\n",
    "    conn.commit()\n",
    "    \n",
    "    # Проверяем успешность загрузки по количеству записей\n",
    "    cursor.execute(\"SELECT COUNT(*) FROM transactions\")\n",
    "    print(f\"Загружено записей: {cursor.fetchone()[0]}\")\n",
    "    \n",
    "except Exception as e:\n",
    "    # Откат транзакции при возникновении ошибки\n",
    "    conn.rollback()\n",
    "    print(f\"Ошибка: {e}\")"
   ]
  }
 ],
 "metadata": {
  "kernelspec": {
   "display_name": ".venv",
   "language": "python",
   "name": "python3"
  },
  "language_info": {
   "codemirror_mode": {
    "name": "ipython",
    "version": 3
   },
   "file_extension": ".py",
   "mimetype": "text/x-python",
   "name": "python",
   "nbconvert_exporter": "python",
   "pygments_lexer": "ipython3",
   "version": "3.12.6"
  }
 },
 "nbformat": 4,
 "nbformat_minor": 2
}
